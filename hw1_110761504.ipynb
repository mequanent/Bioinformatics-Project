{
  "nbformat": 4,
  "nbformat_minor": 0,
  "metadata": {
    "colab": {
      "name": "hw1_110761504.ipynb",
      "provenance": [],
      "authorship_tag": "ABX9TyO5gsIjqvgYCyLnFFPwelM0",
      "include_colab_link": true
    },
    "kernelspec": {
      "name": "python3",
      "display_name": "Python 3"
    },
    "language_info": {
      "name": "python"
    }
  },
  "cells": [
    {
      "cell_type": "markdown",
      "metadata": {
        "id": "view-in-github",
        "colab_type": "text"
      },
      "source": [
        "<a href=\"https://colab.research.google.com/github/mequanent/Bioinformatics-Project/blob/main/hw1_110761504.ipynb\" target=\"_parent\"><img src=\"https://colab.research.google.com/assets/colab-badge.svg\" alt=\"Open In Colab\"/></a>"
      ]
    },
    {
      "cell_type": "code",
      "source": [
        "# Clone the repository first using the following command\n",
        "!npx degit https://github.com/mequanent/Bioinformatics-Project -f\n",
        "# Gives the following \n",
        "# npx: installed 1 in 0.894s\n",
        "# > destination directory is not empty. Using --force, continuing\n",
        "# > cloned mequanent/Bioinformatics-Project#HEAD"
      ],
      "metadata": {
        "id": "Eim-tkyVaZrg",
        "outputId": "5270ce6d-f92a-4494-e4fb-1576ed52492f",
        "colab": {
          "base_uri": "https://localhost:8080/"
        }
      },
      "execution_count": 3,
      "outputs": [
        {
          "output_type": "stream",
          "name": "stdout",
          "text": [
            "\u001b[K\u001b[?25hnpx: installed 1 in 0.894s\n",
            "\u001b[36m> destination directory is not empty. Using --force, continuing\u001b[39m\n",
            "\u001b[36m> cloned \u001b[1mmequanent/Bioinformatics-Project\u001b[22m#\u001b[1mHEAD\u001b[22m\u001b[39m\n"
          ]
        }
      ]
    },
    {
      "cell_type": "code",
      "execution_count": 10,
      "metadata": {
        "id": "1B09rsfBRCzv",
        "colab": {
          "base_uri": "https://localhost:8080/"
        },
        "outputId": "56a31b1b-297d-4e08-97dd-892af24f63cd"
      },
      "outputs": [
        {
          "output_type": "stream",
          "name": "stdout",
          "text": [
            "           A    R    N    D    C    Q    E    G    H    I    L    K    M    F    P    S    T    W    Y    V\n",
            "A  9867     2    9   10    3    8   17   21    2    6    4    2    6    2   22   35   32    0    2   18\n",
            "R     1  9913    1    0    1   10    0    0   10    3    1   19    4    1    4    6    1    8    0    1\n",
            "N     4     1 9822   36    0    4    6    6   21    3    1   13    0    1    2   20    9    1    4    1\n",
            "D     6     0   42 9859    0    6   53    6    4    1    0    3    0    0    1    5    3    0    0    1\n",
            "C     1     1    0    0 9973    0    0    0    1    1    0    0    0    0    1    5    1    0    3    2\n",
            "Q     3     9    4    5    0 9876   27    1   23    1    3    6    4    0    6    2    2    0    0    1\n",
            "E    10     0    7   56    0   35 9865    4    2    3    1    4    1    0    3    4    2    0    1    2\n",
            "G    21     1   12   11    1    3    7 9935    1    0    1    2    1    1    3   21    3    0    0    5\n",
            "H     1     8   18    3    1   20    1    0 9912    0    1    1    0    2    3    1    1    1    4    1\n",
            "I     2     2    3    1    2    1    2    0    0 9872    9    2   12    7    0    1    7    0    1   33\n",
            "L     3     1    3    0    0    6    1    1    4   22 9947    2   45   13    3    1    3    4    2   15\n",
            "K     2    37   25    6    0   12    7    2    2    4    1 9926   20    0    3    8   11    0    1    1\n",
            "M     1     1    0    0    0    2    0    0    0    5    8    4 9874    1    0    1    2    0    0    4\n",
            "F     1     1    1    0    0    0    0    1    2    8    6    0    4 9946    0    2    1    3   28    0\n",
            "P    13     5    2    1    1    8    3    2    5    1    2    2    1    1 9926   12    4    0    0    2\n",
            "S    28    11   34    7   11    4    6   16    2    2    1    7    4    3   17 9840   38    5    2    2\n",
            "T    22     2   13    4    1    3    2    2    1   11    2    8    6    1    5   32 9871    0    2    9\n",
            "W     0     2    0    0    0    0    0    0    0    0    0    0    0    1    0    1    0 9976    1    0\n",
            "Y     1     0    3    0    3    0    1    0    4    1    1    0    0   21    0    1    1    2 9945    1\n",
            "V    13     2    1    1    3    2    2    3    3   57   11    1   17    1    3    2   10    0    2 9901\n"
          ]
        }
      ],
      "source": [
        "import numpy as np\n",
        "#path = \"https://raw.githubusercontent.com/mequanent/Bioinformatics-Project/main/mut.txt\"\n",
        "file = open(\"mut.txt\", \"r\")\n",
        "next(file)\n",
        "for line in file:\n",
        "  print(line.rstrip())"
      ]
    },
    {
      "cell_type": "code",
      "source": [
        "#file.read()\n"
      ],
      "metadata": {
        "id": "BkGrJomscScP"
      },
      "execution_count": 11,
      "outputs": []
    }
  ]
}