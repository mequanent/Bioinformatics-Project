{
  "nbformat": 4,
  "nbformat_minor": 0,
  "metadata": {
    "colab": {
      "name": "hw1_110761504.ipynb",
      "provenance": [],
      "authorship_tag": "ABX9TyMy8/neN2Nnx2goxpA5WX0N",
      "include_colab_link": true
    },
    "kernelspec": {
      "name": "python3",
      "display_name": "Python 3"
    },
    "language_info": {
      "name": "python"
    }
  },
  "cells": [
    {
      "cell_type": "markdown",
      "metadata": {
        "id": "view-in-github",
        "colab_type": "text"
      },
      "source": [
        "<a href=\"https://colab.research.google.com/github/mequanent/Bioinformatics-Project/blob/main/hw1_110761504.ipynb\" target=\"_parent\"><img src=\"https://colab.research.google.com/assets/colab-badge.svg\" alt=\"Open In Colab\"/></a>"
      ]
    },
    {
      "cell_type": "code",
      "source": [
        "# Clone the repository first using the following command\n",
        "!npx degit https://github.com/mequanent/Bioinformatics-Project -f"
      ],
      "metadata": {
        "colab": {
          "base_uri": "https://localhost:8080/"
        },
        "id": "Eim-tkyVaZrg",
        "outputId": "edf861f4-1540-4ea1-ea4e-8b5e52681cd2"
      },
      "execution_count": 1,
      "outputs": [
        {
          "output_type": "stream",
          "name": "stdout",
          "text": [
            "\u001b[K\u001b[?25hnpx: installed 1 in 2.631s\n",
            "\u001b[36m> destination directory is not empty. Using --force, continuing\u001b[39m\n",
            "\u001b[36m> cloned \u001b[1mmequanent/Bioinformatics-Project\u001b[22m#\u001b[1mHEAD\u001b[22m\u001b[39m\n"
          ]
        }
      ]
    },
    {
      "cell_type": "code",
      "execution_count": 2,
      "metadata": {
        "id": "1B09rsfBRCzv",
        "colab": {
          "base_uri": "https://localhost:8080/"
        },
        "outputId": "c90c38ff-b8d1-4499-ce99-853271bd24eb"
      },
      "outputs": [
        {
          "output_type": "stream",
          "name": "stdout",
          "text": [
            "mut size:  (20, 20)\n",
            "[[9867    2    9   10    3    8   17   21    2    6    4    2    6    2\n",
            "    22   35   32    0    2   18]\n",
            " [   1 9913    1    0    1   10    0    0   10    3    1   19    4    1\n",
            "     4    6    1    8    0    1]\n",
            " [   4    1 9822   36    0    4    6    6   21    3    1   13    0    1\n",
            "     2   20    9    1    4    1]\n",
            " [   6    0   42 9859    0    6   53    6    4    1    0    3    0    0\n",
            "     1    5    3    0    0    1]\n",
            " [   1    1    0    0 9973    0    0    0    1    1    0    0    0    0\n",
            "     1    5    1    0    3    2]\n",
            " [   3    9    4    5    0 9876   27    1   23    1    3    6    4    0\n",
            "     6    2    2    0    0    1]\n",
            " [  10    0    7   56    0   35 9865    4    2    3    1    4    1    0\n",
            "     3    4    2    0    1    2]\n",
            " [  21    1   12   11    1    3    7 9935    1    0    1    2    1    1\n",
            "     3   21    3    0    0    5]\n",
            " [   1    8   18    3    1   20    1    0 9912    0    1    1    0    2\n",
            "     3    1    1    1    4    1]\n",
            " [   2    2    3    1    2    1    2    0    0 9872    9    2   12    7\n",
            "     0    1    7    0    1   33]\n",
            " [   3    1    3    0    0    6    1    1    4   22 9947    2   45   13\n",
            "     3    1    3    4    2   15]\n",
            " [   2   37   25    6    0   12    7    2    2    4    1 9926   20    0\n",
            "     3    8   11    0    1    1]\n",
            " [   1    1    0    0    0    2    0    0    0    5    8    4 9874    1\n",
            "     0    1    2    0    0    4]\n",
            " [   1    1    1    0    0    0    0    1    2    8    6    0    4 9946\n",
            "     0    2    1    3   28    0]\n",
            " [  13    5    2    1    1    8    3    2    5    1    2    2    1    1\n",
            "  9926   12    4    0    0    2]\n",
            " [  28   11   34    7   11    4    6   16    2    2    1    7    4    3\n",
            "    17 9840   38    5    2    2]\n",
            " [  22    2   13    4    1    3    2    2    1   11    2    8    6    1\n",
            "     5   32 9871    0    2    9]\n",
            " [   0    2    0    0    0    0    0    0    0    0    0    0    0    1\n",
            "     0    1    0 9976    1    0]\n",
            " [   1    0    3    0    3    0    1    0    4    1    1    0    0   21\n",
            "     0    1    1    2 9945    1]\n",
            " [  13    2    1    1    3    2    2    3    3   57   11    1   17    1\n",
            "     3    2   10    0    2 9901]]\n",
            "PAMx\n",
            "[[97360669    40374   179818   199244    60056   159272   336801   416764\n",
            "     40347   120153    79790    40538   119484    39981   436480   691891\n",
            "    633537      228    39936   356688]\n",
            " [   20132 98268564    20678      294    19979   198408      495      186\n",
            "    198584    59585    20016   377109    79710    19952    79641   118860\n",
            "     20352   159160      125    20033]\n",
            " [   80029    20694 96474893   709301      292    79988   120517   119243\n",
            "    414796    59451    19934   257165      554    20016    40177   394174\n",
            "    178483    19942    79273    20155]\n",
            " [  119442      327   827485 97204597       92   120655  1045998   119457\n",
            "     80255    20171      183    60241      247       95    20338   100034\n",
            "     60144       71      271    20131]\n",
            " [   20048    19964      227       56 99460808       74       62      111\n",
            "     19931    19993       49       71       83       94    20024    99159\n",
            "     20102       40    59777    39825]\n",
            " [   59816   178585    79922   100507       77 97537107   533460    20102\n",
            "    455442    20090    59621   119256    79392      131   119154    40042\n",
            "     39930      121      164    20065]\n",
            " [  198115      585   140760  1105189      100   691540 97322457    79912\n",
            "     40801    59574    20046    79727    20169      110    59990    79888\n",
            "     40362       35    19891    39987]\n",
            " [  416805    20277   238633   218965    20225    60149   139860 98705204\n",
            "     20364      607    20100    40207    20237    20026    60523   416513\n",
            "     61142      133      194    99698]\n",
            " [   20061   158873   355538    60148    19926   396024    20632      203\n",
            "  98248726      230    19987    20383      222    39850    59762    20347\n",
            "     20117    19993    79572    19921]\n",
            " [   40185    39781    59407    20056    39818    20065    39716      224\n",
            "       286 97458704   178908    39856   238058   138928      257    20221\n",
            "    138754       83    20139   652811]\n",
            " [   59944    20202    59679      318      127   119305    20165    20063\n",
            "     79759   437289 98943667    40132   892629   258897    59832    20276\n",
            "     60080    79755    40249   298740]\n",
            " [   40459   734354   494604   120218      163   238578   139470    40150\n",
            "     40944    79749    20234 98526873   396428      193    60106   159462\n",
            "    218555      369    20036    20318]\n",
            " [   19915    19997      222       68       39    39637      135       72\n",
            "       116    99193   158683    79286 97496482    19971      113    19878\n",
            "     39709       48       69    79430]\n",
            " [   19985    19935    20033       89      130      128       96    19948\n",
            "     39891   158751   119503      104    79671 98923661       94    39737\n",
            "     20050    59867   556991      438]\n",
            " [  257894    99562    40349    20347    20094   158898    59996    40246\n",
            "     99553    20163    39906    40051    20187    19993 98526108   237956\n",
            "     80178      118      131    40056]\n",
            " [  553519   217898   670074   140150   218127    80028   119690   317396\n",
            "     40704    40412    20189   139534    79606    59614   337084 96829286\n",
            "    750528    99221    39989    40640]\n",
            " [  435518    40385   257798    80057    20327    59926    40539    40755\n",
            "     20362   218062    40057   158963   119298    20141   100142   632041\n",
            "  97439006      205    39870   178884]\n",
            " [      32    39790       40        7       16       24        7       17\n",
            "        28       17       10       45       16    19948       25    19831\n",
            "        42 99520602    19951        5]\n",
            " [   19930       83    59464      199    59778      151    19862       86\n",
            "     79550    20098    20053       69      175   417751       74    19983\n",
            "     19963    39921 98903664    19938]\n",
            " [  257575    39940    20436    20210    59824    40058    40065    59875\n",
            "     59651  1127618   219083    20240   337548    20505    59937    40520\n",
            "    198741       81    39877 98032286]]\n"
          ]
        }
      ],
      "source": [
        "import numpy as np\n",
        "file = open(\"mut.txt\", \"r\")\n",
        "lines = file.readlines()[2:] # remove the first two lines\n",
        "mut = []\n",
        "for line in lines:\n",
        "  line = line[1:].strip().split() # remove the letters from left and the spaces\n",
        "  mut.append(line)\n",
        "file.close()\n",
        "mut = np.array(mut).astype(int) # convert the string array into numpy array of integers\n",
        "print('mut size: ', mut.shape) # confirm if we get the right matrix size from the text\n",
        "#mut = np.true_divide(mut,100) # Dividing leads PAM250 to overfloaw\n",
        "print(mut)\n",
        "\n",
        "print('PAMx')\n",
        "def pam(x):\n",
        "  PAMx = mut\n",
        "  for i in range(2, x+1):\n",
        "    PAMx = np.matmul(mut, PAMx)\n",
        "  return PAMx\n",
        "PAM250 = pam(2)\n",
        "print(PAM250)"
      ]
    },
    {
      "cell_type": "code",
      "source": [
        "\"A, R, N, D, C, Q, E, G, H, I, L, K, M, F, P, S, T, W, Y, V \"\n",
        "\"Ala, Arg, Asn, Asp, Cys, Gln, Glu, Gly, His, Ile, Leu, Lys, Met, Phe, Pro, Ser, Thr, Trp, Tyr, Val\"\n",
        "\"fi = 0.087, 0.041, 0.040, 0.047, 0.033, 0.038, 0.050, 0.089, 0.034, 0.037, 0.085, 0.081, 0.015, 0.040, 0.051, 0.070, 0.058, 0.010, 0.030, 0.065\"\n",
        "\"Mj = 100, 65, 134, 106, 20, 93, 102, 49, 66, 96, 40, 56, 94, 41, 56, 120, 97, 18, 41, 74\"\n",
        "fi = [0.087, 0.041, 0.040, 0.047, 0.033, 0.038, 0.050, 0.089, 0.034, 0.037, 0.085, 0.081, 0.015, 0.040, 0.051, 0.070, 0.058, 0.010, 0.030, 0.065]\n",
        "mj = [100, 65, 134, 106, 20, 93, 102, 49, 66, 96, 40, 56, 94, 41, 56, 120, 97, 18, 41, 74]\n",
        "\n"
      ],
      "metadata": {
        "id": "BkGrJomscScP"
      },
      "execution_count": null,
      "outputs": []
    },
    {
      "cell_type": "markdown",
      "source": [
        "Questions:\n",
        "1. What value of lambda are we going to use?\n",
        "2. Do we need to manually copy the values of Aij or is there any method to relate Aij with mut.txt?\n",
        "3. Are we going to use the contents in the matrices like mut by dividing into 100 to change into a percentage?\n",
        "4. Are we going to find the PAM250 from mut.txt and use that PAM250 as M(Mij) values to compute Rij = Mij/fi?"
      ],
      "metadata": {
        "id": "xRH-PXtRW0-z"
      }
    }
  ]
}