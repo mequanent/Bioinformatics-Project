{
  "nbformat": 4,
  "nbformat_minor": 0,
  "metadata": {
    "colab": {
      "name": "hw1_110761504.ipynb",
      "provenance": [],
      "authorship_tag": "ABX9TyMrd+Gfb5D696iJpU7U0TNA",
      "include_colab_link": true
    },
    "kernelspec": {
      "name": "python3",
      "display_name": "Python 3"
    },
    "language_info": {
      "name": "python"
    }
  },
  "cells": [
    {
      "cell_type": "markdown",
      "metadata": {
        "id": "view-in-github",
        "colab_type": "text"
      },
      "source": [
        "<a href=\"https://colab.research.google.com/github/mequanent/Bioinformatics-Project/blob/main/hw1_110761504.ipynb\" target=\"_parent\"><img src=\"https://colab.research.google.com/assets/colab-badge.svg\" alt=\"Open In Colab\"/></a>"
      ]
    },
    {
      "cell_type": "code",
      "source": [
        "# Clone the repository first using the following command\n",
        "!npx degit https://github.com/mequanent/Bioinformatics-Project -f"
      ],
      "metadata": {
        "colab": {
          "base_uri": "https://localhost:8080/"
        },
        "id": "Eim-tkyVaZrg",
        "outputId": "7238ae05-d4d3-4d57-bf75-66e40c6101df"
      },
      "execution_count": 1,
      "outputs": [
        {
          "output_type": "stream",
          "name": "stdout",
          "text": [
            "\u001b[K\u001b[?25hnpx: installed 1 in 2.273s\n",
            "\u001b[36m> destination directory is not empty. Using --force, continuing\u001b[39m\n",
            "\u001b[36m> cloned \u001b[1mmequanent/Bioinformatics-Project\u001b[22m#\u001b[1mHEAD\u001b[22m\u001b[39m\n"
          ]
        }
      ]
    },
    {
      "cell_type": "code",
      "execution_count": 22,
      "metadata": {
        "id": "1B09rsfBRCzv",
        "colab": {
          "base_uri": "https://localhost:8080/"
        },
        "outputId": "7bef342c-b02d-4d2f-9b31-8c7d66db6a7d"
      },
      "outputs": [
        {
          "output_type": "stream",
          "name": "stdout",
          "text": [
            "mut size:  (20, 20)\n",
            "[[0.9867 0.0002 0.0009 0.001  0.0003 0.0008 0.0017 0.0021 0.0002 0.0006\n",
            "  0.0004 0.0002 0.0006 0.0002 0.0022 0.0035 0.0032 0.     0.0002 0.0018]\n",
            " [0.0001 0.9913 0.0001 0.     0.0001 0.001  0.     0.     0.001  0.0003\n",
            "  0.0001 0.0019 0.0004 0.0001 0.0004 0.0006 0.0001 0.0008 0.     0.0001]\n",
            " [0.0004 0.0001 0.9822 0.0036 0.     0.0004 0.0006 0.0006 0.0021 0.0003\n",
            "  0.0001 0.0013 0.     0.0001 0.0002 0.002  0.0009 0.0001 0.0004 0.0001]\n",
            " [0.0006 0.     0.0042 0.9859 0.     0.0006 0.0053 0.0006 0.0004 0.0001\n",
            "  0.     0.0003 0.     0.     0.0001 0.0005 0.0003 0.     0.     0.0001]\n",
            " [0.0001 0.0001 0.     0.     0.9973 0.     0.     0.     0.0001 0.0001\n",
            "  0.     0.     0.     0.     0.0001 0.0005 0.0001 0.     0.0003 0.0002]\n",
            " [0.0003 0.0009 0.0004 0.0005 0.     0.9876 0.0027 0.0001 0.0023 0.0001\n",
            "  0.0003 0.0006 0.0004 0.     0.0006 0.0002 0.0002 0.     0.     0.0001]\n",
            " [0.001  0.     0.0007 0.0056 0.     0.0035 0.9865 0.0004 0.0002 0.0003\n",
            "  0.0001 0.0004 0.0001 0.     0.0003 0.0004 0.0002 0.     0.0001 0.0002]\n",
            " [0.0021 0.0001 0.0012 0.0011 0.0001 0.0003 0.0007 0.9935 0.0001 0.\n",
            "  0.0001 0.0002 0.0001 0.0001 0.0003 0.0021 0.0003 0.     0.     0.0005]\n",
            " [0.0001 0.0008 0.0018 0.0003 0.0001 0.002  0.0001 0.     0.9912 0.\n",
            "  0.0001 0.0001 0.     0.0002 0.0003 0.0001 0.0001 0.0001 0.0004 0.0001]\n",
            " [0.0002 0.0002 0.0003 0.0001 0.0002 0.0001 0.0002 0.     0.     0.9872\n",
            "  0.0009 0.0002 0.0012 0.0007 0.     0.0001 0.0007 0.     0.0001 0.0033]\n",
            " [0.0003 0.0001 0.0003 0.     0.     0.0006 0.0001 0.0001 0.0004 0.0022\n",
            "  0.9947 0.0002 0.0045 0.0013 0.0003 0.0001 0.0003 0.0004 0.0002 0.0015]\n",
            " [0.0002 0.0037 0.0025 0.0006 0.     0.0012 0.0007 0.0002 0.0002 0.0004\n",
            "  0.0001 0.9926 0.002  0.     0.0003 0.0008 0.0011 0.     0.0001 0.0001]\n",
            " [0.0001 0.0001 0.     0.     0.     0.0002 0.     0.     0.     0.0005\n",
            "  0.0008 0.0004 0.9874 0.0001 0.     0.0001 0.0002 0.     0.     0.0004]\n",
            " [0.0001 0.0001 0.0001 0.     0.     0.     0.     0.0001 0.0002 0.0008\n",
            "  0.0006 0.     0.0004 0.9946 0.     0.0002 0.0001 0.0003 0.0028 0.    ]\n",
            " [0.0013 0.0005 0.0002 0.0001 0.0001 0.0008 0.0003 0.0002 0.0005 0.0001\n",
            "  0.0002 0.0002 0.0001 0.0001 0.9926 0.0012 0.0004 0.     0.     0.0002]\n",
            " [0.0028 0.0011 0.0034 0.0007 0.0011 0.0004 0.0006 0.0016 0.0002 0.0002\n",
            "  0.0001 0.0007 0.0004 0.0003 0.0017 0.984  0.0038 0.0005 0.0002 0.0002]\n",
            " [0.0022 0.0002 0.0013 0.0004 0.0001 0.0003 0.0002 0.0002 0.0001 0.0011\n",
            "  0.0002 0.0008 0.0006 0.0001 0.0005 0.0032 0.9871 0.     0.0002 0.0009]\n",
            " [0.     0.0002 0.     0.     0.     0.     0.     0.     0.     0.\n",
            "  0.     0.     0.     0.0001 0.     0.0001 0.     0.9976 0.0001 0.    ]\n",
            " [0.0001 0.     0.0003 0.     0.0003 0.     0.0001 0.     0.0004 0.0001\n",
            "  0.0001 0.     0.     0.0021 0.     0.0001 0.0001 0.0002 0.9945 0.0001]\n",
            " [0.0013 0.0002 0.0001 0.0001 0.0003 0.0002 0.0002 0.0003 0.0003 0.0057\n",
            "  0.0011 0.0001 0.0017 0.0001 0.0003 0.0002 0.001  0.     0.0002 0.9901]]\n",
            "PAMx\n",
            "[[13  6  9  9  5  8  9 12  6  8  6  7  7  4 12 11 12  2  4  9]\n",
            " [ 3 16  4  3  2  5  3  2  6  3  2  9  4  2  4  4  3  7  1  2]\n",
            " [ 4  4  6  7  2  5  6  5  6  3  2  5  3  2  4  5  5  2  3  3]\n",
            " [ 5  3  8 11  1  7 10  6  5  3  2  5  3  1  4  5  5  1  2  3]\n",
            " [ 2  2  1  1 52  1  1  1  2  2  1  1  1  1  2  3  2  1  3  2]\n",
            " [ 3  5  5  6  1 10  7  3  7  2  3  5  3  1  4  3  3  1  1  2]\n",
            " [ 5  4  7 11  2  9 12  5  6  3  3  5  3  2  5  5  5  1  2  3]\n",
            " [12  5 10 10  4  7  9 27  5  5  4  6  5  3  8 12  9  2  3  7]\n",
            " [ 2  5  5  4  2  6  4  2 15  2  2  3  2  2  3  3  2  2  3  2]\n",
            " [ 3  2  2  2  2  2  2  2  2 10  6  3  6  5  2  3  4  1  3  9]\n",
            " [ 5  4  5  3  2  6  4  3  5 15 34  5 20 13  5  4  6  6  7 13]\n",
            " [ 6 18 10  8  2 10  8  5  8  5  4 24  9  3  6  8  8  4  3  5]\n",
            " [ 1  1  1  1  0  1  1  1  1  3  4  2  6  1  1  1  1  1  1  2]\n",
            " [ 2  2  2  1  2  1  1  2  3  5  6  1  4 32  1  2  2  4 20  3]\n",
            " [ 7  5  5  4  3  6  5  5  5  3  3  4  3  2 20  6  6  1  2  4]\n",
            " [ 9  7  8  8  7  6  7  9  6  5  4  7  5  3  9 10 10  4  3  6]\n",
            " [ 8  5  7  6  4  5  5  6  4  6  4  6  5  3  7  8 11  2  3  6]\n",
            " [ 0  2  0  0  0  0  0  0  0  0  0  0  0  1  0  1  0 55  1  0]\n",
            " [ 1  1  2  1  3  1  1  1  3  2  3  1  2 15  1  2  2  3 31  2]\n",
            " [ 7  4  4  4  4  4  4  5  4 15 10  4 10  5  5  5  7  2  4 17]]\n"
          ]
        }
      ],
      "source": [
        "import numpy as np\n",
        "np.set_printoptions(suppress=True) # Suppress displaying the scientific notation\n",
        "\n",
        "file = open(\"mut.txt\", \"r\")\n",
        "lines = file.readlines()[2:] # remove the first two lines\n",
        "mut = []\n",
        "for line in lines:\n",
        "  line = line[1:].strip().split() # remove the letters from left and the spaces\n",
        "  mut.append(line)\n",
        "file.close()\n",
        "fi = [0.087, 0.041, 0.040, 0.047, 0.033, 0.038, 0.050, 0.089, 0.034, 0.037, 0.085, 0.081, 0.015, 0.040, 0.051, 0.070, 0.058, 0.010, 0.030, 0.065]\n",
        "mut = np.array(mut).astype(int) # convert the string array into numpy array of integers\n",
        "print('mut size: ', mut.shape) # confirm if we get the right matrix size from the text\n",
        "mut = np.true_divide(mut, 10000) # Change the four digit values into values between 0 & 1\n",
        "print(np.round(mut, 4))\n",
        "\n",
        "print('PAMx')\n",
        "# ************* PAMx Function *********************\n",
        "def pam(x):\n",
        "  PAMx = mut\n",
        "  for i in range(2, x+1):\n",
        "    #PAMx = np.matmul(mut, PAMx)\n",
        "    PAMx = np.matmul(PAMx, mut)\n",
        "    #PAMx = np.rint(PAMx * 100)\n",
        "    #PAMx = PAMx * 100\n",
        "  return np.rint(PAMx * 100).astype(int)\n",
        "# ************* End of the PAMx Function ***********\n",
        "PAM250 = pam(250)\n",
        "print(PAM250)"
      ]
    },
    {
      "cell_type": "code",
      "source": [
        ""
      ],
      "metadata": {
        "id": "aUlneMyU61QK"
      },
      "execution_count": 19,
      "outputs": []
    },
    {
      "cell_type": "code",
      "source": [
        "\"A, R, N, D, C, Q, E, G, H, I, L, K, M, F, P, S, T, W, Y, V \"\n",
        "\"Ala, Arg, Asn, Asp, Cys, Gln, Glu, Gly, His, Ile, Leu, Lys, Met, Phe, Pro, Ser, Thr, Trp, Tyr, Val\"\n",
        "\"fi = 0.087, 0.041, 0.040, 0.047, 0.033, 0.038, 0.050, 0.089, 0.034, 0.037, 0.085, 0.081, 0.015, 0.040, 0.051, 0.070, 0.058, 0.010, 0.030, 0.065\"\n",
        "\"Mj = 100, 65, 134, 106, 20, 93, 102, 49, 66, 96, 40, 56, 94, 41, 56, 120, 97, 18, 41, 74\"\n",
        "mj = [100, 65, 134, 106, 20, 93, 102, 49, 66, 96, 40, 56, 94, 41, 56, 120, 97, 18, 41, 74]"
      ],
      "metadata": {
        "id": "BkGrJomscScP"
      },
      "execution_count": 24,
      "outputs": []
    },
    {
      "cell_type": "code",
      "source": [
        "Rij = []\n",
        "for i in range(20):\n",
        "  Rij.append(PAM250[i] / fi[i] / 100)\n",
        "Rij = np.array(Rij)"
      ],
      "metadata": {
        "id": "UVgIer0_KrRo"
      },
      "execution_count": 57,
      "outputs": []
    },
    {
      "cell_type": "code",
      "source": [
        "m = np.array([[1., 0], [2, 3]])\n",
        "res = np.log2(m, out=np.zeros_like(m), where=(m!=0))\n",
        "res"
      ],
      "metadata": {
        "colab": {
          "base_uri": "https://localhost:8080/"
        },
        "id": "bAkW0-ZPMbBd",
        "outputId": "a7e105d8-5fc4-453e-ddcc-4fb4e61c455f"
      },
      "execution_count": 34,
      "outputs": [
        {
          "output_type": "execute_result",
          "data": {
            "text/plain": [
              "array([[0.       , 0.       ],\n",
              "       [1.       , 1.5849625]])"
            ]
          },
          "metadata": {},
          "execution_count": 34
        }
      ]
    },
    {
      "cell_type": "code",
      "source": [
        "S = Rij\n",
        "for i in range(20):\n",
        "  for j in range(20):\n",
        "    if Rij[i][j] > 0:\n",
        "      S[i][j] = np.rint(10 * np.log10(Rij[i][j]))\n",
        "    else:\n",
        "      S[i][j] = 0\n",
        "\n",
        "for i in range(20):\n",
        "  for j in range(20):\n",
        "    S[i][j] = np.rint((S[i][j] + S[j][i]) / 2)\n",
        "    S[j][i] = S[i][j]\n",
        "\n",
        "print(S.astype(int))"
      ],
      "metadata": {
        "id": "Pe0FDknHLqDd",
        "outputId": "121c6523-e8a9-4b3c-ee9d-feed2052bd96",
        "colab": {
          "base_uri": "https://localhost:8080/"
        }
      },
      "execution_count": 58,
      "outputs": [
        {
          "output_type": "stream",
          "name": "stdout",
          "text": [
            "[[ 2 -2  0  0 -2  0  0  1 -2  0 -2 -1 -2 -3  1  1  1 -3 -4  0]\n",
            " [-2  6  0 -2 -2  1 -1 -3  2 -2 -3  3 -1 -3  0  0 -1  2 -6 -2]\n",
            " [ 0  0  2  2 -4  1  2  1  2 -2 -2  1 -2 -3  0  1  1 -2 -2 -2]\n",
            " [ 0 -2  2  4 -6  2  3  1  0 -2 -4  0 -2 -6 -1  0  0 -4 -4 -2]\n",
            " [-2 -2 -4 -6 12 -6 -4 -4 -2 -2 -6 -6 -2 -4 -2  0 -2 -2  0 -2]\n",
            " [ 0  1  1  2 -6  4  3 -1  2 -3 -2  1 -2 -6  0 -1 -1 -3 -6 -2]\n",
            " [ 0 -1  2  3 -4  3  4  0  1 -2 -2  0 -2 -5  0  0  0 -4 -4 -2]\n",
            " [ 1 -3  1  1 -4 -1  0  5 -2 -3 -4 -2 -2 -4  0  1  0 -3 -5 -1]\n",
            " [-2  2  2  0 -2  2  1 -2  6 -2 -2  0 -2 -2  0 -1 -2 -1  0 -2]\n",
            " [ 0 -2 -2 -2 -2 -3 -2 -3 -2  4  2 -2  2  1 -2 -1  0 -3 -2  4]\n",
            " [-2 -3 -2 -4 -6 -2 -2 -4 -2  2  6 -2  4  2 -2 -2 -2 -1  0  2]\n",
            " [-1  3  1  0 -6  1  0 -2  0 -2 -2  5  0 -5 -1  0  0 -2 -4 -2]\n",
            " [-2 -1 -2 -2 -2 -2 -2 -2 -2  2  4  0  6 -1 -2 -2 -2 -1 -2  2]\n",
            " [-3 -3 -3 -6 -4 -6 -5 -4 -2  1  2 -5 -1  9 -5 -4 -3  0  7 -1]\n",
            " [ 1  0  0 -1 -2  0  0  0  0 -2 -2 -1 -2 -5  6  1  1 -4 -4 -1]\n",
            " [ 1  0  1  0  0 -1  0  1 -1 -1 -2  0 -2 -4  1  2  2 -1 -3 -1]\n",
            " [ 1 -1  1  0 -2 -1  0  0 -2  0 -2  0 -2 -3  1  2  3 -2 -2  0]\n",
            " [-3  2 -2 -4 -2 -3 -4 -3 -1 -3 -1 -2 -1  0 -4 -1 -2 17  0 -2]\n",
            " [-4 -6 -2 -4  0 -6 -4 -5  0 -2  0 -4 -2  7 -4 -3 -2  0 10 -2]\n",
            " [ 0 -2 -2 -2 -2 -2 -2 -1 -2  4  2 -2  2 -1 -1 -1  0 -2 -2  4]]\n"
          ]
        }
      ]
    },
    {
      "cell_type": "markdown",
      "source": [
        "Questions:\n",
        "1. Are we going to use the contents in the matrices like mut by dividing into 100 to change into a percentage? Dividing by 100 gives very small values than expected."
      ],
      "metadata": {
        "id": "xRH-PXtRW0-z"
      }
    },
    {
      "cell_type": "code",
      "source": [
        ""
      ],
      "metadata": {
        "id": "L5dvbPvY6LlR"
      },
      "execution_count": null,
      "outputs": []
    }
  ]
}